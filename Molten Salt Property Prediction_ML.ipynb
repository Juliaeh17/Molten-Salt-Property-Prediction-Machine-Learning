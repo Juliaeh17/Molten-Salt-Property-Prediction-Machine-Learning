{
  "nbformat": 4,
  "nbformat_minor": 0,
  "metadata": {
    "colab": {
      "provenance": [],
      "toc_visible": true
    },
    "kernelspec": {
      "name": "python3",
      "display_name": "Python 3"
    },
    "language_info": {
      "name": "python"
    }
  },
  "cells": [
    {
      "cell_type": "markdown",
      "source": [
        "# **Predicting the Melting Points of UF₄ and FUNaK Mixtures Using Machine Learning**"
      ],
      "metadata": {
        "id": "TZzv25vDL9LQ"
      }
    },
    {
      "cell_type": "markdown",
      "source": [
        "## **Abstract**"
      ],
      "metadata": {
        "id": "MP7fynuIMGlg"
      }
    },
    {
      "cell_type": "markdown",
      "source": [
        "The goal of this project was to develop a machine learning model to predict the melting points of uranium tetrafluoride (UF₄) and FUNaK (NaF-KF-UF₄) molten salt mixtures, which are relevant to the design and safety of molten salt reactors. Experimental determination of melting points for these salts is limited and often challenging due to their corrosiveness, high melting temperatures, and radiological hazards. A dataset of 43 samples was compiled from scientific literature and technical reports. Input features included molar composition, calculated ionic properties (e.g., average ionic radius, charge, electronegativity), molecular weight, and heating rate. Three regression models were implemented and compared: a linear regression (PyTorch), Random Forest, and XGBoost. The linear model performed poorly (R² = -9.22, MAE = 403.15 K, RMSE = 418.68), indicating it was insufficient to capture the complexity of the system. Random Forest improved significantly (R² = 0.90, MAE = 18.90 K, RMSE = 42.23), while XGBoost achieved the best performance (R² = 0.97, MAE = 13.24 K, RMSE = 21.19 K). These results suggest that tree based models are well suited for predicting molten salt melting points from small datasets. These results show that tree based machine learning models can effectively capture patterns in small material datasets, offering a practical alternative to experimental or thermodynamic modeling in early stage salt screening. Some limitations include possible data leakage due to overlapping compositions and the scarcity of validated UF₄ melting point data."
      ],
      "metadata": {
        "id": "zWUUbtwPXKzU"
      }
    },
    {
      "cell_type": "markdown",
      "source": [
        "## **Introduction**"
      ],
      "metadata": {
        "id": "wBGDBctaMYYQ"
      }
    },
    {
      "cell_type": "markdown",
      "source": [
        "Molten salt reactors (MSRs) are an emerging class of nuclear reactors that use salt mixtures as both fuel and coolant. One of the most critical thermophysical properties in the design of these reactors is the melting point of the salt mixture. This is particularly important for salts like uranium tetrafluoride (UF₄) and its mixtures with sodium fluoride (NaF) and potassium fluoride (KF),referred to as FUNaK mixtures. These materials are not only chemically reactive and corrosive but also radioactive, making experimental determination of their melting points costly, hazardous, and technically challenging.\n",
        "\n",
        "Previous efforts to estimate melting points of salt mixtures have mostly relied on thermodynamic models such as CALPHAD (e.g., Glushko 1994; Barin 1995), which use phase diagrams and Gibbs free energy minimization. While effective, these methods require extensive experimental data and are computationally intensive. More recently, machine learning has been explored for predicting material properties. Recent work by Wang et al., applied machine learning to predict eutectic temperatures of molten salts such as LiCl-KCl, demonstrating the potential of data driven models in place of traditional thermodynamic calculations. Although the chemical systems differ from FUNaK, the methodology is directly relevant to our objective and supports the feasibility of machine learning based melting point prediction in nuclear salt applications.\n",
        "\n",
        "In this project, I propose a machine learning based approach to predict the melting point of UF₄ and FUNaK mixtures using a small, curated dataset collected from scientific literature and thermophysical databases (e.g., NIST, ORNL). Our feature set includes molar fractions, ionic radius, electronegativity, ionic charge, molecular weight, and heating rate. Due to the limited dataset (43 samples), I initially explored linear regression as a baseline model, followed by Random Forest and XGBoost regressor models to capture potential nonlinear relationships in the data.\n",
        "\n",
        "The XGBoost model achieved the best results, with a mean absolute error (MAE) of 13.24K, root mean squared error (RMSE) of 21.19K, and an R² score of 0.97 on the test set. These results indicate that tree based models are promising tools for property prediction in complex molten salt systems and may offer a fast, low cost alternative to experimental methods in early stage MSR design."
      ],
      "metadata": {
        "id": "Ct8En5ooSC2T"
      }
    },
    {
      "cell_type": "markdown",
      "source": [
        "## **Methodology**"
      ],
      "metadata": {
        "id": "XtzOOJDnMpWp"
      }
    },
    {
      "cell_type": "markdown",
      "source": [
        "The goal of this project was to predict the melting points of UF₄ and FUNaK fluoride salt mixtures using machine learning techniques.\n",
        "\n",
        "Previous approaches on predicting the melting points of molten salts have mainly been with thermodynamic models and empirical mixing rules. For example, Calphad ('CALculation of PHAse Diagrams') modeling, uses experimental phase diagrams and Gibbs free energy calculations to estimate melting temperatures, but this requires extensive experimental data and can be computationally expensive. More recently, machine learning has been applied to property predictions of materials, this includes melting points of salt mixtures. Studies have used Random Forest, Neural Networks, and Graph Neural Networks (GNNs) to predict melting temperatures based on elemental and structural properties.\n",
        "\n",
        "The methodology in this project focused on dataset construction, feature engineering, and the implementation of multiple regression models to evaluate predictive performance. It applies machine learning to a niche, nuclear materials dataset focused on UF₄ and eutectic fluoride molten salts. Only a handful of UF₄ melting point data points exist in literature, making model generalization challenging.\n",
        "\n",
        "**Compilation of Data & Preprocessing**\n",
        "\n",
        "Data was manually collected from scientific articles and technical reports (e.g., ORNL, NIST).\n",
        "\n",
        "Each row in the dataset corresponds to a unique salt composition, and includes measured thermophysical properties.\n",
        "\n",
        "The final dataset contained 43 samples, with a mix of pure, binary, and ternary fluoride salt systems.\n",
        "\n",
        "Preprocessing included:\n",
        "\n",
        "*   Handling missing values: Rows with missing melting point values were removed; other features with missing values were retained only if informative\n",
        "*   All input features were standardized using StandardScaler to ensure consistent input ranges across models.\n",
        "*   Outlier handling: A known UF₄ outlier (1309K from a 1960 paper, see References) was kept for model robustness evaluation and discussed further in the Results section.\n",
        "\n",
        "**Feature Engineering**\n",
        "\n",
        "Several original features were derived from the salt compositions such as average ionic radius, charge, and electronegativity, based on mole fractions and periodic table data. Other features, such as Heating_Rate_Kmin, and Melting_Point_K were directly taken from experimental reports and included in the model as is.\n",
        "\n",
        "**Model Implementation and Evaluation**\n",
        "\n",
        "Three machine learning models were implemented and compared:\n",
        "\n",
        "1. Linear Regression Model implemented in PyTorch.\n",
        "2. Random Forest Regressor Model to capture nonlinear relationships between features.\n",
        "3. XGBoost Regressor Model which performed the best, uses gradient boosting to improve predictions.\n",
        "\n",
        "All models were evaluated using Mean Absolute Error (MAE), Root Mean Squared Error (RMSE), and R².\n",
        "\n",
        "Due to the limited dataset size (43 samples), the data was split into training and testing sets only. A separate validation set was not used. Hyperparameters for tree-based models were kept fixed to prevent overfitting, and model comparison was based on a 30% test set. For larger datasets, a validation set would be recommended."
      ],
      "metadata": {
        "id": "DNiB0dsC1-Ni"
      }
    },
    {
      "cell_type": "markdown",
      "source": [
        "Below is an image of the XGBoost Regressor Model (see References for source).\n",
        "![XGBoost Diagram](https://drive.google.com/uc?export=view&id=1Mv32VnpLC67oE5hEOTpBLfzCxvaAAU-Z)\n"
      ],
      "metadata": {
        "id": "lvAk1PqC73GE"
      }
    },
    {
      "cell_type": "markdown",
      "source": [
        "# How XGBoost Works:\n",
        "\n",
        "1. **Starting Prediction:** XGBoost begins by making an initial prediction on the training set, usually by taking the mean of the target variable.\n",
        "\n",
        "2. **Calculating Errors:** Next, it calculates the residuals; these are the differences between the actual values and the model's predictions. These residuals show how far off the prediction was.\n",
        "\n",
        "3. **Building the First Tree:** A decision tree is then built to model the residuals. This tree looks for the best feature splits that can reduce the prediction errors as much as possible.\n",
        "\n",
        "4. **Adding More Trees:**\n",
        "Rather than starting from scratch, XGBoost keeps adding trees one at a time. Each new tree is trained to fix the errors made by the current model (it targets the latest residuals), gradually improving accuracy with each step.\n",
        "\n",
        "5. **Optimizing with a Loss Function:**\n",
        "During training, XGBoost uses a loss function to measure how well it's doing. The algorithm adjusts itself to minimize this loss, helping it move closer to accurate predictions.\n",
        "\n",
        "6. **Deciding When to Stop:**\n",
        "The model continues adding trees until it meets a stopping rule; such as hitting the maximum number of trees (which is our case), seeing minimal improvement in performance, or reaching a desired accuracy."
      ],
      "metadata": {
        "id": "EnLdLlL6OeIY"
      }
    },
    {
      "cell_type": "markdown",
      "source": [
        "## **Experimental Setup**"
      ],
      "metadata": {
        "id": "YIQOcLeaPq3v"
      }
    },
    {
      "cell_type": "markdown",
      "source": [
        "**Dataset**\n",
        "\n",
        "The dataset consists of 43 samples representing various fluoride salt systems, including:\n",
        "\n",
        "*   Pure compounds (NaF, KF, UF₄)\n",
        "*   Binary mixtures (KF-UF₄, NaF-UF₄)\n",
        "*   Ternary eutectic systems, FUNaK (KF-NaF-UF₄)\n",
        "\n",
        "Each sample has these features:\n",
        "\n",
        "\n",
        "*   NaF_MoleFrac, KF_MoleFrac, UF4_MoleFrac: Molar fraction composition of each component.\n",
        "\n",
        "*   Avg_Ionic_Radius: Based on weighted mole fractions.\n",
        "\n",
        "*   Avg_Ionic_Charge: Average charge of ions.\n",
        "\n",
        "*   Avg_Electronegativity: Average Pauling electronegativity.\n",
        "\n",
        "*   Molecular_weight_gmol: Molecular weight of the mixture (g/mol).\n",
        "\n",
        "*   Heating_Rate_Kmin:Heating rate used in the experiment (K/min).\n",
        "\n",
        "*   Melting_Point_K: Target variable, measured melting point in Kelvin.\n",
        "\n",
        "Data was compiled manually from the literature, including reports from ORNL, NIST, and journal publications.\n",
        "\n",
        "Most of these measurements used differential scanning calorimtery (DSC) to obtain the melting temperature of the salts.\n",
        "\n",
        "**Machine Learning Techniques**\n",
        "\n",
        "Three different models were evaluated, as listed below.\n",
        "\n",
        "1.   Linear Regression Model: Hyperparameters include lr=0.001, epochs=500, random_state=42, optimizer=SGD.\n",
        "2.   Random Forest Regressor Model: n_estimators=100, random_state=42.\n",
        "3.   XGBoost Regressor Model: n_estimators=100, random_state=42, lr=0.1, max_depth=3.\n",
        "\n"
      ],
      "metadata": {
        "id": "loqYmmNBvLbs"
      }
    },
    {
      "cell_type": "markdown",
      "source": [
        "Below is a screenshot of the entire Dataset (csv file) used in this project.\n",
        "![Dataset CSV](https://drive.google.com/uc?export=view&id=1Sqy4_mN0rtniGIDqLYDhgL8nLPAGO69x)\n"
      ],
      "metadata": {
        "id": "T9xsJBbp1O-M"
      }
    },
    {
      "cell_type": "markdown",
      "source": [
        "## **Experimental Results**"
      ],
      "metadata": {
        "id": "BRL5KR20QWKu"
      }
    },
    {
      "cell_type": "code",
      "source": [
        "# Download the CSV data\n",
        "!pip install -q gdown\n",
        "import gdown\n",
        "\n",
        "file_id = \"10w_3vVdlVJqJMGG9bwl8dDcaVuk6FrSb\"\n",
        "gdown.download(f\"https://drive.google.com/uc?id={file_id}\", \"Data.csv\", quiet=False)"
      ],
      "metadata": {
        "colab": {
          "base_uri": "https://localhost:8080/",
          "height": 105
        },
        "id": "uT2TywiD9hq6",
        "outputId": "7b5d3934-84ad-4265-92d9-282fc82410d8"
      },
      "execution_count": null,
      "outputs": [
        {
          "output_type": "stream",
          "name": "stderr",
          "text": [
            "Downloading...\n",
            "From: https://drive.google.com/uc?id=10w_3vVdlVJqJMGG9bwl8dDcaVuk6FrSb\n",
            "To: /content/Data.csv\n",
            "100%|██████████| 3.24k/3.24k [00:00<00:00, 6.62MB/s]\n"
          ]
        },
        {
          "output_type": "execute_result",
          "data": {
            "text/plain": [
              "'Data.csv'"
            ],
            "application/vnd.google.colaboratory.intrinsic+json": {
              "type": "string"
            }
          },
          "metadata": {},
          "execution_count": 2
        }
      ]
    },
    {
      "cell_type": "code",
      "source": [
        "# Make sure it can be accessed\n",
        "import pandas as pd\n",
        "df = pd.read_csv(\"Data.csv\")\n",
        "print(\"Columns:\", df.columns.tolist())\n",
        "print(df.head()) # First 5 samples"
      ],
      "metadata": {
        "id": "Qmxz57Iw-Yvn",
        "colab": {
          "base_uri": "https://localhost:8080/"
        },
        "outputId": "fc847b37-b6aa-4b31-ccc2-27c864a8a829"
      },
      "execution_count": null,
      "outputs": [
        {
          "output_type": "stream",
          "name": "stdout",
          "text": [
            "Columns: ['Compound', 'Mixture_Type', 'NaF_MoleFrac', 'KF_MoleFrac', 'UF4_MoleFrac', 'Avg_Ionic_Radius', 'Avg_Ionic_Charge', 'Avg_Electronegativity', 'Molecular_weight_gmol', 'Heating_Rate_Kmin', 'Melting_Point_K']\n",
            "  Compound Mixture_Type  NaF_MoleFrac  KF_MoleFrac  UF4_MoleFrac  \\\n",
            "0      NaF         Pure         1.000        0.000         0.000   \n",
            "1       KF         Pure         0.000        1.000         0.000   \n",
            "2      UF4         Pure         0.000        0.000         1.000   \n",
            "3      UF4         Pure         0.000        0.000         1.000   \n",
            "4    FUNaK     Ternary          0.556        0.187         0.257   \n",
            "\n",
            "   Avg_Ionic_Radius  Avg_Ionic_Charge  Avg_Electronegativity  \\\n",
            "0           1.02000             1.000                  0.930   \n",
            "1           1.38000             1.000                  0.820   \n",
            "2           1.00000             4.000                  1.380   \n",
            "3           1.00000             4.000                  1.380   \n",
            "4           1.08218             1.771                  1.025   \n",
            "\n",
            "   Molecular_weight_gmol  Heating_Rate_Kmin  Melting_Point_K  \n",
            "0              41.988172                 10          1266.15  \n",
            "1              58.096700                 10          1131.15  \n",
            "2             314.020000                 10          1307.85  \n",
            "3             314.020000                 10          1309.00  \n",
            "4             114.910000                  2           809.35  \n"
          ]
        }
      ]
    },
    {
      "cell_type": "markdown",
      "source": [
        "# Linear Regression Model\n",
        "Linear Regression Model is used first as a baseline starting point."
      ],
      "metadata": {
        "id": "xHs0lxTNTI_j"
      }
    },
    {
      "cell_type": "code",
      "source": [
        "import numpy as np\n",
        "import torch\n",
        "import torch.nn as nn\n",
        "\n",
        "from sklearn.model_selection import train_test_split\n",
        "from sklearn.metrics import mean_absolute_error, mean_squared_error, r2_score\n",
        "from sklearn.preprocessing import StandardScaler\n",
        "\n",
        "import random\n",
        "\n",
        "\n",
        "def set_seed(seed=42):\n",
        "    \"\"\"\n",
        "    Sets the random seed for reproducibility.\n",
        "\n",
        "    Args:\n",
        "        seed (int): The random seed to use.\n",
        "\n",
        "    Returns:\n",
        "        None\n",
        "    \"\"\"\n",
        "    np.random.seed(seed)\n",
        "    random.seed(seed)\n",
        "    torch.manual_seed(seed)\n",
        "\n",
        "\n",
        "def load_dataset(csv_path):\n",
        "    \"\"\"\n",
        "    Loads the melting point dataset from CSV file.\n",
        "\n",
        "    Args:\n",
        "        csv_path (str): Path to the CSV file.\n",
        "\n",
        "    Returns:\n",
        "        X_scaled (np.ndarray): Scaled feature matrix (numerical features).\n",
        "        y (pd.Series): Target variable (melting point in Kelvin).\n",
        "    \"\"\"\n",
        "    # Load dataset\n",
        "    df = pd.read_csv(csv_path)\n",
        "\n",
        "    # Drop non-numeric columns\n",
        "    df.drop(columns=['Compound', 'Mixture_Type'], inplace=True)\n",
        "\n",
        "    # Separate target and features\n",
        "    y = df['Melting_Point_K']\n",
        "    X = df.drop(columns=['Melting_Point_K'])\n",
        "\n",
        "    # Normalize feature matrix\n",
        "    scaler = StandardScaler()\n",
        "    X_scaled = scaler.fit_transform(X)\n",
        "\n",
        "    return X_scaled, y\n",
        "\n",
        "\n",
        "class LinearRegressionModel(nn.Module):\n",
        "    \"\"\"\n",
        "    Linear regression model in PyTorch.\n",
        "\n",
        "    Args:\n",
        "        input_dim (int): Number of input features.\n",
        "    \"\"\"\n",
        "    def __init__(self, input_dim):\n",
        "        super().__init__()\n",
        "        self.linear = nn.Linear(input_dim, 1)\n",
        "\n",
        "    def forward(self, x):\n",
        "        return self.linear(x)\n",
        "\n",
        "\n",
        "def train_model(model, X_train, y_train, lr=0.01, epochs=1000):\n",
        "    \"\"\"\n",
        "    Trains PyTorch linear regression model.\n",
        "\n",
        "    Args:\n",
        "        model (nn.Module): Model to train.\n",
        "        X_train (np.ndarray): Training features.\n",
        "        y_train (np.ndarray): Training labels.\n",
        "        lr (float): Learning rate.\n",
        "        epochs (int): Number of training epochs.\n",
        "\n",
        "    Returns:\n",
        "        model (nn.Module): Trained model.\n",
        "    \"\"\"\n",
        "    criterion = nn.MSELoss()\n",
        "    optimizer = torch.optim.SGD(model.parameters(), lr=lr)\n",
        "\n",
        "    for epoch in range(epochs):\n",
        "        model.train()\n",
        "        outputs = model(X_train)\n",
        "        loss = criterion(outputs, y_train)\n",
        "        optimizer.zero_grad()\n",
        "        loss.backward()\n",
        "        optimizer.step()\n",
        "\n",
        "    return model\n",
        "\n",
        "\n",
        "def evaluate_model(model, X_test, y_test):\n",
        "    \"\"\"\n",
        "    Evaluates the PyTorch model using MAE, RMSE, and R².\n",
        "\n",
        "    Args:\n",
        "        model (nn.Module): Trained model.\n",
        "        X_test (np.ndarray): Test feature matrix.\n",
        "        y_test (np.ndarray): True target values.\n",
        "\n",
        "    Returns:\n",
        "        dict: Dictionary of MAE, RMSE, and R² scores.\n",
        "    \"\"\"\n",
        "    model.eval()\n",
        "    with torch.no_grad(): # Get predictions without tracking gradients.\n",
        "        predictions = model(X_test).squeeze().numpy()\n",
        "\n",
        "    y_true = y_test.numpy()\n",
        "    return {\n",
        "        \"MAE\": mean_absolute_error(y_true, predictions),\n",
        "        \"RMSE\": np.sqrt(mean_squared_error(y_true, predictions)),\n",
        "        \"R²\": r2_score(y_true, predictions)\n",
        "    }"
      ],
      "metadata": {
        "id": "PJ69fr8fbJht"
      },
      "execution_count": null,
      "outputs": []
    },
    {
      "cell_type": "code",
      "source": [
        "set_seed(42)\n",
        "\n",
        "# Load and extract features from data\n",
        "csv_path = \"Data.csv\"\n",
        "X, y = load_dataset(csv_path)\n",
        "\n",
        "# Split data: 70% train and 30% test\n",
        "X_train_np, X_test_np, y_train_np, y_test_np = train_test_split(\n",
        "    X, y.values, test_size=0.3, random_state=42\n",
        ")\n",
        "\n",
        "# Convert NumPy arrays to PyTorch tensors\n",
        "X_train = torch.tensor(X_train_np, dtype=torch.float32)\n",
        "X_test = torch.tensor(X_test_np, dtype=torch.float32)\n",
        "y_train = torch.tensor(y_train_np, dtype=torch.float32).view(-1, 1) # Shape (N, 1)\n",
        "y_test = torch.tensor(y_test_np, dtype=torch.float32) # Shape (N,)\n",
        "\n",
        "# Initialize and train model\n",
        "model = LinearRegressionModel(input_dim=X.shape[1])\n",
        "model = train_model(model, X_train, y_train, lr=0.001, epochs=500)\n",
        "\n",
        "# Evaluate model\n",
        "metrics = evaluate_model(model, X_test, y_test)\n",
        "\n",
        "print(\"Evaluation Results (test set):\")\n",
        "for key, value in metrics.items():\n",
        "    print(f\"{key}: {value:.2f}\")"
      ],
      "metadata": {
        "id": "INAtGmEgbRT7",
        "colab": {
          "base_uri": "https://localhost:8080/"
        },
        "outputId": "51e28c53-d179-48b5-c581-ebe34a7ff243"
      },
      "execution_count": null,
      "outputs": [
        {
          "output_type": "stream",
          "name": "stdout",
          "text": [
            "Evaluation Results (test set):\n",
            "MAE: 403.15\n",
            "RMSE: 418.68\n",
            "R²: -9.22\n"
          ]
        }
      ]
    },
    {
      "cell_type": "code",
      "source": [
        "# This will print a comparison between the actual and predicted values for the test set.\n",
        "\n",
        "# Get the actual predicted values in NumPy format, used to create DataFrame\n",
        "with torch.no_grad():\n",
        "    y_pred = model(X_test).squeeze().numpy()\n",
        "\n",
        "# Create DataFrame\n",
        "comparison = pd.DataFrame({\n",
        "    'Actual': y_test.numpy(),\n",
        "    'Predicted': y_pred\n",
        "})\n",
        "print(comparison)\n"
      ],
      "metadata": {
        "colab": {
          "base_uri": "https://localhost:8080/"
        },
        "id": "WcSMkIy8O7L8",
        "outputId": "a4859984-3401-4d0d-9ef0-e5060a091d55"
      },
      "execution_count": null,
      "outputs": [
        {
          "output_type": "stream",
          "name": "stdout",
          "text": [
            "         Actual   Predicted\n",
            "0    950.000000  578.767395\n",
            "1   1018.000000  718.423950\n",
            "2   1005.000000  718.400024\n",
            "3    951.000000  578.747681\n",
            "4    988.000000  578.829834\n",
            "5    947.000000  578.798279\n",
            "6    809.349976  361.637085\n",
            "7    810.250000  369.497467\n",
            "8    808.950012  363.222443\n",
            "9   1309.000000  569.163452\n",
            "10   807.950012  364.237793\n",
            "11   887.000000  578.909668\n",
            "12   887.000000  578.854248\n"
          ]
        }
      ]
    },
    {
      "cell_type": "markdown",
      "source": [
        "The Evaluation Results on the test set indicate the model is not learning well.\n",
        "\n",
        "*   The MAE of 403.15 tell us that the predictions are off by about 403K, this is very high.\n",
        "*   RMSE of 418.68 is also quite high, RMSE penalizes large errors.\n",
        "*   The R² value is negative, indicating the model is performing worse than just predicting the mean, in other words it is not capturing the trend at all!\n",
        "*   Looking at the comparison between the actual and predicted values for each sample in the test set we can clearly see how far off the model is for each sample. It is consistently predicting a melting point much lower than the actual value.\n",
        "\n",
        "\n",
        "\n",
        "This could be due to the limited dataset, the model being too simple, or the features are not fully predictive (maybe more features are required).\n",
        "\n",
        "\n"
      ],
      "metadata": {
        "id": "zGwpMysZRDn6"
      }
    },
    {
      "cell_type": "markdown",
      "source": [
        "# Random Forest Model\n",
        "Will try a more complex model, if there are nonlinear patterns in the data then this model should capture it unlike the previous linear model."
      ],
      "metadata": {
        "id": "j90vDr1mSrtR"
      }
    },
    {
      "cell_type": "code",
      "source": [
        "def evaluate_model_sklearn(y_true, y_pred):\n",
        "    \"\"\"\n",
        "    Evaluates a regression model using standard metrics.\n",
        "\n",
        "    Args:\n",
        "        y_true (np.ndarray): True target values.\n",
        "        y_pred (np.ndarray): Predicted target values.\n",
        "\n",
        "    Returns:\n",
        "        dict: MAE, RMSE, and R² score.\n",
        "    \"\"\"\n",
        "    return {\n",
        "        \"MAE\": mean_absolute_error(y_true, y_pred),\n",
        "        \"RMSE\": np.sqrt(mean_squared_error(y_true, y_pred)),\n",
        "        \"R²\": r2_score(y_true, y_pred)\n",
        "    }"
      ],
      "metadata": {
        "id": "y6RTctsEWe77"
      },
      "execution_count": null,
      "outputs": []
    },
    {
      "cell_type": "code",
      "source": [
        "from sklearn.ensemble import RandomForestRegressor\n",
        "\n",
        "X_scaled, y = load_dataset(\"Data.csv\") # Load data from before\n",
        "\n",
        "# Split the data into train and test\n",
        "X_train, X_test, y_train, y_test = train_test_split(X_scaled, y, test_size=0.3, random_state=42)\n",
        "\n",
        "# Train the model\n",
        "model = RandomForestRegressor(n_estimators=100, random_state=42)\n",
        "model.fit(X_train, y_train)\n",
        "\n",
        "# Predictions\n",
        "y_pred = model.predict(X_test)\n",
        "\n",
        "# Evaluate model\n",
        "metrics = evaluate_model_sklearn(y_test, y_pred)\n",
        "\n",
        "print(\"Evaluation Results (on test set):\")\n",
        "for key, value in metrics.items():\n",
        "    print(f\"{key}: {value:.2f}\")\n"
      ],
      "metadata": {
        "colab": {
          "base_uri": "https://localhost:8080/"
        },
        "id": "JnzU43XpUhGA",
        "outputId": "4cc06cae-3f76-4431-d4ce-499147496069"
      },
      "execution_count": null,
      "outputs": [
        {
          "output_type": "stream",
          "name": "stdout",
          "text": [
            "Evaluation Results (on test set):\n",
            "MAE: 18.90\n",
            "RMSE: 42.23\n",
            "R²: 0.90\n"
          ]
        }
      ]
    },
    {
      "cell_type": "code",
      "source": [
        "# Print a comparison between the actual and predicted values for the test set.\n",
        "\n",
        "comparison = pd.DataFrame({\n",
        "    'Actual': y_test,\n",
        "    'Predicted': y_pred\n",
        "})\n",
        "print(comparison)\n"
      ],
      "metadata": {
        "colab": {
          "base_uri": "https://localhost:8080/"
        },
        "id": "Lj47d0IzXdOC",
        "outputId": "d026f959-c295-40ea-e755-12fdfe2ea50e"
      },
      "execution_count": null,
      "outputs": [
        {
          "output_type": "stream",
          "name": "stdout",
          "text": [
            "     Actual  Predicted\n",
            "37   950.00   951.2800\n",
            "24  1018.00  1008.6800\n",
            "25  1005.00  1012.6700\n",
            "36   951.00   949.5000\n",
            "34   988.00   936.0900\n",
            "39   947.00   949.1600\n",
            "4    809.35   808.3345\n",
            "12   810.25   809.3115\n",
            "8    808.95   808.8775\n",
            "3   1309.00  1168.2135\n",
            "6    807.95   811.8765\n",
            "27   887.00   909.2190\n",
            "31   887.00   884.0900\n"
          ]
        }
      ]
    },
    {
      "cell_type": "markdown",
      "source": [
        "The Evaluation Results on the test set indicate this model is learning much better than the simple linear regression!\n",
        "\n",
        "*   The MAE of 18.90 tell us that the predictions are off by about 18.9K, this is much lower than before but still high.\n",
        "*   RMSE of 42.23 is also a bit high, but again a big improvement from 418.68 from before.\n",
        "*   The R² value is positive now with a value of 0.9, indicating there is a strong correlation between the features used to fit the model to the data.\n",
        "*   Looking at the comparison between the actual and predicted values for each sample in the test set we see a significant improvement, with some of them almost being an exact match.\n",
        "\n",
        "This tells us that the linear regression model from before was too simple to find patterns within the dataset and that there is a nonlinear pattern in the data. However the model is not perfect, either more data could be used or we can try another model next to see how the outcome will change.\n",
        "\n",
        "This Random Forest model should be used as a baseline instead of the Linear Regression model. The results from the Linear Regression model are still important however as it indicates to us that the pattern between the features is more complex and nonlinear."
      ],
      "metadata": {
        "id": "FMm5YIriXxnv"
      }
    },
    {
      "cell_type": "code",
      "source": [
        "import matplotlib.pyplot as plt\n",
        "\n",
        "# Plot predicted vs actual values\n",
        "plt.figure(figsize=(6, 6))\n",
        "plt.scatter(y_test, y_pred, color='blue', alpha=0.7, edgecolor='k', label='Predictions')\n",
        "\n",
        "# Add 1:1 line using matching min/max for x and y axes\n",
        "lims = [min(y_test.min(), y_pred.min()), max(y_test.max(), y_pred.max())]\n",
        "plt.plot(lims, lims, 'r--', label='1:1 Line')  # 1:1 reference line\n",
        "plt.xlim(lims)\n",
        "plt.ylim(lims)\n",
        "\n",
        "# Labels and styling\n",
        "plt.xlabel(\"Actual Melting Point (K)\")\n",
        "plt.ylabel(\"Predicted Melting Point (K)\")\n",
        "plt.title(\"Random Forest: Actual vs Predicted\")\n",
        "plt.legend()\n",
        "plt.grid(True)\n",
        "plt.axis('equal')\n",
        "plt.tight_layout()\n",
        "plt.show()"
      ],
      "metadata": {
        "colab": {
          "base_uri": "https://localhost:8080/",
          "height": 607
        },
        "id": "xF-VbtHobHvc",
        "outputId": "44d01ffb-e8da-4305-99c7-dbce30ee87d1"
      },
      "execution_count": null,
      "outputs": [
        {
          "output_type": "display_data",
          "data": {
            "text/plain": [
              "<Figure size 600x600 with 1 Axes>"
            ],
            "image/png": "[encoded data removed]"
          },
          "metadata": {}
        }
      ]
    },
    {
      "cell_type": "markdown",
      "source": [
        "Most points fall close to the reference line, meaning the model is predicting melting points accurately across the test set.\n",
        "\n",
        "There is one main outlier around (actual ~1310, predicted ~1160).\n",
        "\n",
        "For the most part, the model performs well for most compounds. However, the outlier could be due to a high variance compound or the original data collected for that point is unreliable. In other words, they may have a measurement error or unusual composition. This can be somewhat verified by checking how long ago the measurement was completed (was it longer than 5-10yrs ago?), and reading into the source to see if the compound had any unusual properties or contamination.\n"
      ],
      "metadata": {
        "id": "CVQItij8dYIL"
      }
    },
    {
      "cell_type": "code",
      "source": [
        "# Calculate residuals\n",
        "residuals = y_test - y_pred\n",
        "\n",
        "# Plot residuals vs actual values\n",
        "plt.figure(figsize=(6, 5))\n",
        "plt.scatter(y_test, residuals, alpha=0.7, edgecolor='k', color='green')\n",
        "plt.axhline(0, color='red', linestyle='--', linewidth=1.5, label='Zero Error')\n",
        "\n",
        "# Labels\n",
        "plt.xlabel(\"Actual Melting Point (K)\")\n",
        "plt.ylabel(\"Residual (Actual - Predicted)\")\n",
        "plt.title(\"Residual Plot for Random Forest Model\")\n",
        "plt.grid(True)\n",
        "plt.legend()\n",
        "plt.tight_layout()\n",
        "plt.show()"
      ],
      "metadata": {
        "colab": {
          "base_uri": "https://localhost:8080/",
          "height": 507
        },
        "id": "irAz7alZc34Q",
        "outputId": "33296fb1-e0eb-4594-d6bd-fba6fd362ea8"
      },
      "execution_count": null,
      "outputs": [
        {
          "output_type": "display_data",
          "data": {
            "text/plain": [
              "<Figure size 600x500 with 1 Axes>"
            ],
            "image/png": "[encoded data removed]"
          },
          "metadata": {}
        }
      ]
    },
    {
      "cell_type": "markdown",
      "source": [
        "Since the residuals are centered near 0, we can say that the model is not biased overall.\n",
        "\n",
        "Most points have residuals between -20 and +20, showing good predictive accuracy.\n",
        "\n",
        "Unsurprisingly, the large positive residual from the outlier stands out (Residual ~140K) reflecting that it is indeed the largest prediction error.\n",
        "\n",
        "Overall, the Random Forest model shows strong agreement between predicted and actual melting points, with most samples being close to the 1:1 line. One significant outlier can be observed around 1309 K, where the model  underpredicted the melting point. This discrepancy was also reflected in the residual plot. Further investigation into the source of this outlier could determine whether it is due to experimental uncertainty, outdated data, or compositional anomalies. Aside from this, residuals were low and randomly distributed, indicating unbiased and stable model performance."
      ],
      "metadata": {
        "id": "bbQWZY3iepQ9"
      }
    },
    {
      "cell_type": "markdown",
      "source": [
        "# XGBoost Model\n",
        "XGBoost is also a tree based model like Random Forest but trains differently. Instead of training all trees independently, it builds them consecutively, where each new tree corrects the errors of the previous ones. This can lead to better performance, especially on small datasets. Since it's more sensitive to patterns in the data, XGBoost may perform better than Random Forest if subtle nonlinear trends exist."
      ],
      "metadata": {
        "id": "hBtdA_5Jgmeh"
      }
    },
    {
      "cell_type": "code",
      "source": [
        "!pip install xgboost # Install if you do not already have\n",
        "\n",
        "from xgboost import XGBRegressor"
      ],
      "metadata": {
        "colab": {
          "base_uri": "https://localhost:8080/"
        },
        "id": "4Bb0d9swhskH",
        "outputId": "a4305b67-697f-4dd2-b85a-f8620d2b5afe"
      },
      "execution_count": null,
      "outputs": [
        {
          "output_type": "stream",
          "name": "stdout",
          "text": [
            "Requirement already satisfied: xgboost in /usr/local/lib/python3.11/dist-packages (2.1.4)\n",
            "Requirement already satisfied: numpy in /usr/local/lib/python3.11/dist-packages (from xgboost) (2.0.2)\n",
            "Requirement already satisfied: nvidia-nccl-cu12 in /usr/local/lib/python3.11/dist-packages (from xgboost) (2.21.5)\n",
            "Requirement already satisfied: scipy in /usr/local/lib/python3.11/dist-packages (from xgboost) (1.14.1)\n"
          ]
        }
      ]
    },
    {
      "cell_type": "code",
      "source": [
        "# Split the data into train and test\n",
        "X_train, X_test, y_train, y_test = train_test_split(X_scaled, y, test_size=0.3, random_state=42) # 30% of data for testing"
      ],
      "metadata": {
        "id": "Ew06SUySh0by"
      },
      "execution_count": null,
      "outputs": []
    },
    {
      "cell_type": "code",
      "source": [
        "# Train XGBoost model\n",
        "model = XGBRegressor(\n",
        "    n_estimators=100, # number of boosting trees\n",
        "    learning_rate=0.1, # step size reduced to prevent overfitting\n",
        "    max_depth=3, # how many splits from root node to the leaf nodes\n",
        "    random_state=42 # ensures reproducibility of the results\n",
        ")\n",
        "model.fit(X_train, y_train)"
      ],
      "metadata": {
        "colab": {
          "base_uri": "https://localhost:8080/",
          "height": 254
        },
        "id": "vHt1DA6Bh6Wd",
        "outputId": "d2a8d55e-0cfe-4537-b659-d92ec48f07b7"
      },
      "execution_count": null,
      "outputs": [
        {
          "output_type": "execute_result",
          "data": {
            "text/plain": [
              "XGBRegressor(base_score=None, booster=None, callbacks=None,\n",
              "             colsample_bylevel=None, colsample_bynode=None,\n",
              "             colsample_bytree=None, device=None, early_stopping_rounds=None,\n",
              "             enable_categorical=False, eval_metric=None, feature_types=None,\n",
              "             gamma=None, grow_policy=None, importance_type=None,\n",
              "             interaction_constraints=None, learning_rate=0.1, max_bin=None,\n",
              "             max_cat_threshold=None, max_cat_to_onehot=None,\n",
              "             max_delta_step=None, max_depth=3, max_leaves=None,\n",
              "             min_child_weight=None, missing=nan, monotone_constraints=None,\n",
              "             multi_strategy=None, n_estimators=100, n_jobs=None,\n",
              "             num_parallel_tree=None, random_state=42, ...)"
            ],
            "text/html": [
              "<style>#sk-container-id-1 {\n",
              "  /* Definition of color scheme common for light and dark mode */\n",
              "  --sklearn-color-text: #000;\n",
              "  --sklearn-color-text-muted: #666;\n",
              "  --sklearn-color-line: gray;\n",
              "  /* Definition of color scheme for unfitted estimators */\n",
              "  --sklearn-color-unfitted-level-0: #fff5e6;\n",
              "  --sklearn-color-unfitted-level-1: #f6e4d2;\n",
              "  --sklearn-color-unfitted-level-2: #ffe0b3;\n",
              "  --sklearn-color-unfitted-level-3: chocolate;\n",
              "  /* Definition of color scheme for fitted estimators */\n",
              "  --sklearn-color-fitted-level-0: #f0f8ff;\n",
              "  --sklearn-color-fitted-level-1: #d4ebff;\n",
              "  --sklearn-color-fitted-level-2: #b3dbfd;\n",
              "  --sklearn-color-fitted-level-3: cornflowerblue;\n",
              "\n",
              "  /* Specific color for light theme */\n",
              "  --sklearn-color-text-on-default-background: var(--sg-text-color, var(--theme-code-foreground, var(--jp-content-font-color1, black)));\n",
              "  --sklearn-color-background: var(--sg-background-color, var(--theme-background, var(--jp-layout-color0, white)));\n",
              "  --sklearn-color-border-box: var(--sg-text-color, var(--theme-code-foreground, var(--jp-content-font-color1, black)));\n",
              "  --sklearn-color-icon: #696969;\n",
              "\n",
              "  @media (prefers-color-scheme: dark) {\n",
              "    /* Redefinition of color scheme for dark theme */\n",
              "    --sklearn-color-text-on-default-background: var(--sg-text-color, var(--theme-code-foreground, var(--jp-content-font-color1, white)));\n",
              "    --sklearn-color-background: var(--sg-background-color, var(--theme-background, var(--jp-layout-color0, #111)));\n",
              "    --sklearn-color-border-box: var(--sg-text-color, var(--theme-code-foreground, var(--jp-content-font-color1, white)));\n",
              "    --sklearn-color-icon: #878787;\n",
              "  }\n",
              "}\n",
              "\n",
              "#sk-container-id-1 {\n",
              "  color: var(--sklearn-color-text);\n",
              "}\n",
              "\n",
              "#sk-container-id-1 pre {\n",
              "  padding: 0;\n",
              "}\n",
              "\n",
              "#sk-container-id-1 input.sk-hidden--visually {\n",
              "  border: 0;\n",
              "  clip: rect(1px 1px 1px 1px);\n",
              "  clip: rect(1px, 1px, 1px, 1px);\n",
              "  height: 1px;\n",
              "  margin: -1px;\n",
              "  overflow: hidden;\n",
              "  padding: 0;\n",
              "  position: absolute;\n",
              "  width: 1px;\n",
              "}\n",
              "\n",
              "#sk-container-id-1 div.sk-dashed-wrapped {\n",
              "  border: 1px dashed var(--sklearn-color-line);\n",
              "  margin: 0 0.4em 0.5em 0.4em;\n",
              "  box-sizing: border-box;\n",
              "  padding-bottom: 0.4em;\n",
              "  background-color: var(--sklearn-color-background);\n",
              "}\n",
              "\n",
              "#sk-container-id-1 div.sk-container {\n",
              "  /* jupyter's `normalize.less` sets `[hidden] { display: none; }`\n",
              "     but bootstrap.min.css set `[hidden] { display: none !important; }`\n",
              "     so we also need the `!important` here to be able to override the\n",
              "     default hidden behavior on the sphinx rendered scikit-learn.org.\n",
              "     See: https://github.com/scikit-learn/scikit-learn/issues/21755 */\n",
              "  display: inline-block !important;\n",
              "  position: relative;\n",
              "}\n",
              "\n",
              "#sk-container-id-1 div.sk-text-repr-fallback {\n",
              "  display: none;\n",
              "}\n",
              "\n",
              "div.sk-parallel-item,\n",
              "div.sk-serial,\n",
              "div.sk-item {\n",
              "  /* draw centered vertical line to link estimators */\n",
              "  background-image: linear-gradient(var(--sklearn-color-text-on-default-background), var(--sklearn-color-text-on-default-background));\n",
              "  background-size: 2px 100%;\n",
              "  background-repeat: no-repeat;\n",
              "  background-position: center center;\n",
              "}\n",
              "\n",
              "/* Parallel-specific style estimator block */\n",
              "\n",
              "#sk-container-id-1 div.sk-parallel-item::after {\n",
              "  content: \"\";\n",
              "  width: 100%;\n",
              "  border-bottom: 2px solid var(--sklearn-color-text-on-default-background);\n",
              "  flex-grow: 1;\n",
              "}\n",
              "\n",
              "#sk-container-id-1 div.sk-parallel {\n",
              "  display: flex;\n",
              "  align-items: stretch;\n",
              "  justify-content: center;\n",
              "  background-color: var(--sklearn-color-background);\n",
              "  position: relative;\n",
              "}\n",
              "\n",
              "#sk-container-id-1 div.sk-parallel-item {\n",
              "  display: flex;\n",
              "  flex-direction: column;\n",
              "}\n",
              "\n",
              "#sk-container-id-1 div.sk-parallel-item:first-child::after {\n",
              "  align-self: flex-end;\n",
              "  width: 50%;\n",
              "}\n",
              "\n",
              "#sk-container-id-1 div.sk-parallel-item:last-child::after {\n",
              "  align-self: flex-start;\n",
              "  width: 50%;\n",
              "}\n",
              "\n",
              "#sk-container-id-1 div.sk-parallel-item:only-child::after {\n",
              "  width: 0;\n",
              "}\n",
              "\n",
              "/* Serial-specific style estimator block */\n",
              "\n",
              "#sk-container-id-1 div.sk-serial {\n",
              "  display: flex;\n",
              "  flex-direction: column;\n",
              "  align-items: center;\n",
              "  background-color: var(--sklearn-color-background);\n",
              "  padding-right: 1em;\n",
              "  padding-left: 1em;\n",
              "}\n",
              "\n",
              "\n",
              "/* Toggleable style: style used for estimator/Pipeline/ColumnTransformer box that is\n",
              "clickable and can be expanded/collapsed.\n",
              "- Pipeline and ColumnTransformer use this feature and define the default style\n",
              "- Estimators will overwrite some part of the style using the `sk-estimator` class\n",
              "*/\n",
              "\n",
              "/* Pipeline and ColumnTransformer style (default) */\n",
              "\n",
              "#sk-container-id-1 div.sk-toggleable {\n",
              "  /* Default theme specific background. It is overwritten whether we have a\n",
              "  specific estimator or a Pipeline/ColumnTransformer */\n",
              "  background-color: var(--sklearn-color-background);\n",
              "}\n",
              "\n",
              "/* Toggleable label */\n",
              "#sk-container-id-1 label.sk-toggleable__label {\n",
              "  cursor: pointer;\n",
              "  display: flex;\n",
              "  width: 100%;\n",
              "  margin-bottom: 0;\n",
              "  padding: 0.5em;\n",
              "  box-sizing: border-box;\n",
              "  text-align: center;\n",
              "  align-items: start;\n",
              "  justify-content: space-between;\n",
              "  gap: 0.5em;\n",
              "}\n",
              "\n",
              "#sk-container-id-1 label.sk-toggleable__label .caption {\n",
              "  font-size: 0.6rem;\n",
              "  font-weight: lighter;\n",
              "  color: var(--sklearn-color-text-muted);\n",
              "}\n",
              "\n",
              "#sk-container-id-1 label.sk-toggleable__label-arrow:before {\n",
              "  /* Arrow on the left of the label */\n",
              "  content: \"▸\";\n",
              "  float: left;\n",
              "  margin-right: 0.25em;\n",
              "  color: var(--sklearn-color-icon);\n",
              "}\n",
              "\n",
              "#sk-container-id-1 label.sk-toggleable__label-arrow:hover:before {\n",
              "  color: var(--sklearn-color-text);\n",
              "}\n",
              "\n",
              "/* Toggleable content - dropdown */\n",
              "\n",
              "#sk-container-id-1 div.sk-toggleable__content {\n",
              "  max-height: 0;\n",
              "  max-width: 0;\n",
              "  overflow: hidden;\n",
              "  text-align: left;\n",
              "  /* unfitted */\n",
              "  background-color: var(--sklearn-color-unfitted-level-0);\n",
              "}\n",
              "\n",
              "#sk-container-id-1 div.sk-toggleable__content.fitted {\n",
              "  /* fitted */\n",
              "  background-color: var(--sklearn-color-fitted-level-0);\n",
              "}\n",
              "\n",
              "#sk-container-id-1 div.sk-toggleable__content pre {\n",
              "  margin: 0.2em;\n",
              "  border-radius: 0.25em;\n",
              "  color: var(--sklearn-color-text);\n",
              "  /* unfitted */\n",
              "  background-color: var(--sklearn-color-unfitted-level-0);\n",
              "}\n",
              "\n",
              "#sk-container-id-1 div.sk-toggleable__content.fitted pre {\n",
              "  /* unfitted */\n",
              "  background-color: var(--sklearn-color-fitted-level-0);\n",
              "}\n",
              "\n",
              "#sk-container-id-1 input.sk-toggleable__control:checked~div.sk-toggleable__content {\n",
              "  /* Expand drop-down */\n",
              "  max-height: 200px;\n",
              "  max-width: 100%;\n",
              "  overflow: auto;\n",
              "}\n",
              "\n",
              "#sk-container-id-1 input.sk-toggleable__control:checked~label.sk-toggleable__label-arrow:before {\n",
              "  content: \"▾\";\n",
              "}\n",
              "\n",
              "/* Pipeline/ColumnTransformer-specific style */\n",
              "\n",
              "#sk-container-id-1 div.sk-label input.sk-toggleable__control:checked~label.sk-toggleable__label {\n",
              "  color: var(--sklearn-color-text);\n",
              "  background-color: var(--sklearn-color-unfitted-level-2);\n",
              "}\n",
              "\n",
              "#sk-container-id-1 div.sk-label.fitted input.sk-toggleable__control:checked~label.sk-toggleable__label {\n",
              "  background-color: var(--sklearn-color-fitted-level-2);\n",
              "}\n",
              "\n",
              "/* Estimator-specific style */\n",
              "\n",
              "/* Colorize estimator box */\n",
              "#sk-container-id-1 div.sk-estimator input.sk-toggleable__control:checked~label.sk-toggleable__label {\n",
              "  /* unfitted */\n",
              "  background-color: var(--sklearn-color-unfitted-level-2);\n",
              "}\n",
              "\n",
              "#sk-container-id-1 div.sk-estimator.fitted input.sk-toggleable__control:checked~label.sk-toggleable__label {\n",
              "  /* fitted */\n",
              "  background-color: var(--sklearn-color-fitted-level-2);\n",
              "}\n",
              "\n",
              "#sk-container-id-1 div.sk-label label.sk-toggleable__label,\n",
              "#sk-container-id-1 div.sk-label label {\n",
              "  /* The background is the default theme color */\n",
              "  color: var(--sklearn-color-text-on-default-background);\n",
              "}\n",
              "\n",
              "/* On hover, darken the color of the background */\n",
              "#sk-container-id-1 div.sk-label:hover label.sk-toggleable__label {\n",
              "  color: var(--sklearn-color-text);\n",
              "  background-color: var(--sklearn-color-unfitted-level-2);\n",
              "}\n",
              "\n",
              "/* Label box, darken color on hover, fitted */\n",
              "#sk-container-id-1 div.sk-label.fitted:hover label.sk-toggleable__label.fitted {\n",
              "  color: var(--sklearn-color-text);\n",
              "  background-color: var(--sklearn-color-fitted-level-2);\n",
              "}\n",
              "\n",
              "/* Estimator label */\n",
              "\n",
              "#sk-container-id-1 div.sk-label label {\n",
              "  font-family: monospace;\n",
              "  font-weight: bold;\n",
              "  display: inline-block;\n",
              "  line-height: 1.2em;\n",
              "}\n",
              "\n",
              "#sk-container-id-1 div.sk-label-container {\n",
              "  text-align: center;\n",
              "}\n",
              "\n",
              "/* Estimator-specific */\n",
              "#sk-container-id-1 div.sk-estimator {\n",
              "  font-family: monospace;\n",
              "  border: 1px dotted var(--sklearn-color-border-box);\n",
              "  border-radius: 0.25em;\n",
              "  box-sizing: border-box;\n",
              "  margin-bottom: 0.5em;\n",
              "  /* unfitted */\n",
              "  background-color: var(--sklearn-color-unfitted-level-0);\n",
              "}\n",
              "\n",
              "#sk-container-id-1 div.sk-estimator.fitted {\n",
              "  /* fitted */\n",
              "  background-color: var(--sklearn-color-fitted-level-0);\n",
              "}\n",
              "\n",
              "/* on hover */\n",
              "#sk-container-id-1 div.sk-estimator:hover {\n",
              "  /* unfitted */\n",
              "  background-color: var(--sklearn-color-unfitted-level-2);\n",
              "}\n",
              "\n",
              "#sk-container-id-1 div.sk-estimator.fitted:hover {\n",
              "  /* fitted */\n",
              "  background-color: var(--sklearn-color-fitted-level-2);\n",
              "}\n",
              "\n",
              "/* Specification for estimator info (e.g. \"i\" and \"?\") */\n",
              "\n",
              "/* Common style for \"i\" and \"?\" */\n",
              "\n",
              ".sk-estimator-doc-link,\n",
              "a:link.sk-estimator-doc-link,\n",
              "a:visited.sk-estimator-doc-link {\n",
              "  float: right;\n",
              "  font-size: smaller;\n",
              "  line-height: 1em;\n",
              "  font-family: monospace;\n",
              "  background-color: var(--sklearn-color-background);\n",
              "  border-radius: 1em;\n",
              "  height: 1em;\n",
              "  width: 1em;\n",
              "  text-decoration: none !important;\n",
              "  margin-left: 0.5em;\n",
              "  text-align: center;\n",
              "  /* unfitted */\n",
              "  border: var(--sklearn-color-unfitted-level-1) 1pt solid;\n",
              "  color: var(--sklearn-color-unfitted-level-1);\n",
              "}\n",
              "\n",
              ".sk-estimator-doc-link.fitted,\n",
              "a:link.sk-estimator-doc-link.fitted,\n",
              "a:visited.sk-estimator-doc-link.fitted {\n",
              "  /* fitted */\n",
              "  border: var(--sklearn-color-fitted-level-1) 1pt solid;\n",
              "  color: var(--sklearn-color-fitted-level-1);\n",
              "}\n",
              "\n",
              "/* On hover */\n",
              "div.sk-estimator:hover .sk-estimator-doc-link:hover,\n",
              ".sk-estimator-doc-link:hover,\n",
              "div.sk-label-container:hover .sk-estimator-doc-link:hover,\n",
              ".sk-estimator-doc-link:hover {\n",
              "  /* unfitted */\n",
              "  background-color: var(--sklearn-color-unfitted-level-3);\n",
              "  color: var(--sklearn-color-background);\n",
              "  text-decoration: none;\n",
              "}\n",
              "\n",
              "div.sk-estimator.fitted:hover .sk-estimator-doc-link.fitted:hover,\n",
              ".sk-estimator-doc-link.fitted:hover,\n",
              "div.sk-label-container:hover .sk-estimator-doc-link.fitted:hover,\n",
              ".sk-estimator-doc-link.fitted:hover {\n",
              "  /* fitted */\n",
              "  background-color: var(--sklearn-color-fitted-level-3);\n",
              "  color: var(--sklearn-color-background);\n",
              "  text-decoration: none;\n",
              "}\n",
              "\n",
              "/* Span, style for the box shown on hovering the info icon */\n",
              ".sk-estimator-doc-link span {\n",
              "  display: none;\n",
              "  z-index: 9999;\n",
              "  position: relative;\n",
              "  font-weight: normal;\n",
              "  right: .2ex;\n",
              "  padding: .5ex;\n",
              "  margin: .5ex;\n",
              "  width: min-content;\n",
              "  min-width: 20ex;\n",
              "  max-width: 50ex;\n",
              "  color: var(--sklearn-color-text);\n",
              "  box-shadow: 2pt 2pt 4pt #999;\n",
              "  /* unfitted */\n",
              "  background: var(--sklearn-color-unfitted-level-0);\n",
              "  border: .5pt solid var(--sklearn-color-unfitted-level-3);\n",
              "}\n",
              "\n",
              ".sk-estimator-doc-link.fitted span {\n",
              "  /* fitted */\n",
              "  background: var(--sklearn-color-fitted-level-0);\n",
              "  border: var(--sklearn-color-fitted-level-3);\n",
              "}\n",
              "\n",
              ".sk-estimator-doc-link:hover span {\n",
              "  display: block;\n",
              "}\n",
              "\n",
              "/* \"?\"-specific style due to the `<a>` HTML tag */\n",
              "\n",
              "#sk-container-id-1 a.estimator_doc_link {\n",
              "  float: right;\n",
              "  font-size: 1rem;\n",
              "  line-height: 1em;\n",
              "  font-family: monospace;\n",
              "  background-color: var(--sklearn-color-background);\n",
              "  border-radius: 1rem;\n",
              "  height: 1rem;\n",
              "  width: 1rem;\n",
              "  text-decoration: none;\n",
              "  /* unfitted */\n",
              "  color: var(--sklearn-color-unfitted-level-1);\n",
              "  border: var(--sklearn-color-unfitted-level-1) 1pt solid;\n",
              "}\n",
              "\n",
              "#sk-container-id-1 a.estimator_doc_link.fitted {\n",
              "  /* fitted */\n",
              "  border: var(--sklearn-color-fitted-level-1) 1pt solid;\n",
              "  color: var(--sklearn-color-fitted-level-1);\n",
              "}\n",
              "\n",
              "/* On hover */\n",
              "#sk-container-id-1 a.estimator_doc_link:hover {\n",
              "  /* unfitted */\n",
              "  background-color: var(--sklearn-color-unfitted-level-3);\n",
              "  color: var(--sklearn-color-background);\n",
              "  text-decoration: none;\n",
              "}\n",
              "\n",
              "#sk-container-id-1 a.estimator_doc_link.fitted:hover {\n",
              "  /* fitted */\n",
              "  background-color: var(--sklearn-color-fitted-level-3);\n",
              "}\n",
              "</style><div id=\"sk-container-id-1\" class=\"sk-top-container\"><div class=\"sk-text-repr-fallback\"><pre>XGBRegressor(base_score=None, booster=None, callbacks=None,\n",
              "             colsample_bylevel=None, colsample_bynode=None,\n",
              "             colsample_bytree=None, device=None, early_stopping_rounds=None,\n",
              "             enable_categorical=False, eval_metric=None, feature_types=None,\n",
              "             gamma=None, grow_policy=None, importance_type=None,\n",
              "             interaction_constraints=None, learning_rate=0.1, max_bin=None,\n",
              "             max_cat_threshold=None, max_cat_to_onehot=None,\n",
              "             max_delta_step=None, max_depth=3, max_leaves=None,\n",
              "             min_child_weight=None, missing=nan, monotone_constraints=None,\n",
              "             multi_strategy=None, n_estimators=100, n_jobs=None,\n",
              "             num_parallel_tree=None, random_state=42, ...)</pre><b>In a Jupyter environment, please rerun this cell to show the HTML representation or trust the notebook. <br />On GitHub, the HTML representation is unable to render, please try loading this page with nbviewer.org.</b></div><div class=\"sk-container\" hidden><div class=\"sk-item\"><div class=\"sk-estimator fitted sk-toggleable\"><input class=\"sk-toggleable__control sk-hidden--visually\" id=\"sk-estimator-id-1\" type=\"checkbox\" checked><label for=\"sk-estimator-id-1\" class=\"sk-toggleable__label fitted sk-toggleable__label-arrow\"><div><div>XGBRegressor</div></div><div><span class=\"sk-estimator-doc-link fitted\">i<span>Fitted</span></span></div></label><div class=\"sk-toggleable__content fitted\"><pre>XGBRegressor(base_score=None, booster=None, callbacks=None,\n",
              "             colsample_bylevel=None, colsample_bynode=None,\n",
              "             colsample_bytree=None, device=None, early_stopping_rounds=None,\n",
              "             enable_categorical=False, eval_metric=None, feature_types=None,\n",
              "             gamma=None, grow_policy=None, importance_type=None,\n",
              "             interaction_constraints=None, learning_rate=0.1, max_bin=None,\n",
              "             max_cat_threshold=None, max_cat_to_onehot=None,\n",
              "             max_delta_step=None, max_depth=3, max_leaves=None,\n",
              "             min_child_weight=None, missing=nan, monotone_constraints=None,\n",
              "             multi_strategy=None, n_estimators=100, n_jobs=None,\n",
              "             num_parallel_tree=None, random_state=42, ...)</pre></div> </div></div></div></div>"
            ]
          },
          "metadata": {},
          "execution_count": 14
        }
      ]
    },
    {
      "cell_type": "code",
      "source": [
        "# Predictions for XGBoost Model\n",
        "y_pred = model.predict(X_test)\n",
        "\n",
        "metrics = evaluate_model_sklearn(y_test, y_pred)\n",
        "\n",
        "# Print MAE, RMSE, and R²\n",
        "print(\"Evaluation Results (on test set):\")\n",
        "for key, value in metrics.items():\n",
        "    print(f\"{key}: {value:.2f}\")"
      ],
      "metadata": {
        "colab": {
          "base_uri": "https://localhost:8080/"
        },
        "id": "4Bx2Lod7h-uH",
        "outputId": "5df19513-282a-4752-b538-1f107f35ef87"
      },
      "execution_count": null,
      "outputs": [
        {
          "output_type": "stream",
          "name": "stdout",
          "text": [
            "Evaluation Results (on test set):\n",
            "MAE: 13.24\n",
            "RMSE: 21.19\n",
            "R²: 0.97\n"
          ]
        }
      ]
    },
    {
      "cell_type": "code",
      "source": [
        "# Print a comparison between the actual and predicted values for the test set.\n",
        "\n",
        "comparison = pd.DataFrame({\n",
        "    'Actual': y_test,\n",
        "    'Predicted': y_pred\n",
        "})\n",
        "print(comparison)"
      ],
      "metadata": {
        "colab": {
          "base_uri": "https://localhost:8080/"
        },
        "id": "mFeKPC0EiPTt",
        "outputId": "5a383217-6bc2-438a-df7c-163de49f3eee"
      },
      "execution_count": null,
      "outputs": [
        {
          "output_type": "stream",
          "name": "stdout",
          "text": [
            "     Actual    Predicted\n",
            "37   950.00   950.552246\n",
            "24  1018.00  1012.537720\n",
            "25  1005.00  1012.537720\n",
            "36   951.00   950.552246\n",
            "34   988.00   948.544250\n",
            "39   947.00   948.521973\n",
            "4    809.35   809.881714\n",
            "12   810.25   851.981323\n",
            "8    808.95   851.981323\n",
            "3   1309.00  1304.727539\n",
            "6    807.95   809.048645\n",
            "27   887.00   910.960999\n",
            "31   887.00   884.442932\n"
          ]
        }
      ]
    },
    {
      "cell_type": "markdown",
      "source": [
        "XGBoost outperformed the previous models: linear regression and Random Forest, achieving the lowest error (MAE of 13.24 and RMSE of 21.19) and the highest R² score (0.97). This indicates that the model is capturing nearly all the variance in the melting point data. The improvement likely comes from XGBoost's training approach compared to the independently built trees of Random Forest."
      ],
      "metadata": {
        "id": "_AaDmhBFiz7m"
      }
    },
    {
      "cell_type": "code",
      "source": [
        "# Plot XGBoost predicted vs actual values\n",
        "plt.figure(figsize=(6, 6))\n",
        "plt.scatter(y_test, y_pred, color='blue', alpha=0.7, edgecolor='k', label='Predictions')\n",
        "\n",
        "# 1:1 reference line\n",
        "lims = [min(y_test.min(), y_pred.min()), max(y_test.max(), y_pred.max())]\n",
        "plt.plot(lims, lims, 'r--', label='1:1 Line')\n",
        "plt.xlim(lims)\n",
        "plt.ylim(lims)\n",
        "\n",
        "# Labels\n",
        "plt.xlabel(\"Actual Melting Point (K)\")\n",
        "plt.ylabel(\"Predicted Melting Point (K)\")\n",
        "plt.title(\"Actual vs Predicted for XGBoost Model\")\n",
        "plt.legend()\n",
        "plt.grid(True)\n",
        "plt.axis('equal')\n",
        "plt.tight_layout()\n",
        "plt.show()"
      ],
      "metadata": {
        "colab": {
          "base_uri": "https://localhost:8080/",
          "height": 607
        },
        "id": "sWbUgj8jjuK1",
        "outputId": "84e2cf22-6ef1-4df2-e821-8cb64c13317b"
      },
      "execution_count": null,
      "outputs": [
        {
          "output_type": "display_data",
          "data": {
            "text/plain": [
              "<Figure size 600x600 with 1 Axes>"
            ],
            "image/png": "[encoded data removed]"
          },
          "metadata": {}
        }
      ]
    },
    {
      "cell_type": "markdown",
      "source": [
        "Now all the data points (including the outlier from before) fall close to the reference line. This model has proven to be the best predictor in melting points. This also tell us that the outlier from before likely had nothing \"wrong\" with it, it was just slightly more complex for the Random Forest model to evaluate."
      ],
      "metadata": {
        "id": "9sUyDzLNj1B-"
      }
    },
    {
      "cell_type": "code",
      "source": [
        "# Residuals\n",
        "residuals = y_test - y_pred\n",
        "\n",
        "# Plot\n",
        "plt.figure(figsize=(6, 5))\n",
        "plt.scatter(y_test, residuals, alpha=0.7, edgecolor='k', color='green') # Plot Residual and Actual\n",
        "plt.axhline(0, color='red', linestyle='--', linewidth=1.5, label='Zero Error')\n",
        "\n",
        "# Labels\n",
        "plt.xlabel(\"Actual Melting Point (K)\")\n",
        "plt.ylabel(\"Residual (K)\") # Actual - Predicted\n",
        "plt.title(\"XGBoost: Residual Graph\")\n",
        "plt.grid(True)\n",
        "plt.legend()\n",
        "plt.tight_layout()\n",
        "plt.show()"
      ],
      "metadata": {
        "colab": {
          "base_uri": "https://localhost:8080/",
          "height": 507
        },
        "id": "UeirkzJvjv3I",
        "outputId": "989d15c7-50f2-4af1-da0f-2c1267d16eea"
      },
      "execution_count": null,
      "outputs": [
        {
          "output_type": "display_data",
          "data": {
            "text/plain": [
              "<Figure size 600x500 with 1 Axes>"
            ],
            "image/png": "[encoded data removed]"
          },
          "metadata": {}
        }
      ]
    },
    {
      "cell_type": "markdown",
      "source": [
        "While XGBoost closely captured the outlier sample from before around 1309 K, the residual plot shows a slight increase in error across the mid-range melting points. This suggests that the model shifted slightly to accommodate the previous outlier. However, the overall prediction accuracy remains high (MAE = 13.24 K, R² = 0.97), indicating a strong generalization across the dataset."
      ],
      "metadata": {
        "id": "nwOT36Z5k11s"
      }
    },
    {
      "cell_type": "markdown",
      "source": [
        "## **Conclusions**\n",
        "\n",
        "Through a series of regression models (Linear Regression, Random Forest, and XGBoost), I investigated the ability of machine learning to predict the melting point of UF₄ and FUNaK mixtures using thermophysical features such as molar composition and ionic properties.\n",
        "\n",
        "**What I could conclude:**\n",
        "\n",
        "*   XGBoost provided the best performance, achieving an MAE of 13.2K and R² of 0.97, significantly outperforming Random Forest (R² = 0.90) and the Linear model (R² = -9.22).\n",
        "\n",
        "*   Tree based models were effective in capturing nonlinear patterns within the limited dataset, which the linear model was unable to do.\n",
        "\n",
        "*   Despite the small sample size of 43 compounds, the tree based models were able to generalize well to unseen salts, particularly for the ternary FUNaK salts, which are of primary interest.\n",
        "\n",
        "*   Scatter and residual plots for the tree based models confirmed that errors were generally small and randomly distributed, with only minor deviation in predictions for mid range melting points.\n",
        "\n",
        "*   One outlier, a pure UF₄ sample from a 1960 experiment was fit well by XGBoost, suggesting that more complex models are capable of connecting older data with patterns found in more recent experimental results.\n",
        "\n",
        "**What I could not conclude:**\n",
        "\n",
        "*   I could not confidently validate model behavior for high temperature uranium salts. This is due to the limited dataset, especially with only two pure UF₄ samples being available publicly.\n",
        "\n",
        "*   Although the models performed well on the test set, I could not confirm that the test compositions were fully independent of the training set. Some samples had identical/near identical molar compositions, especially for the FUNaK compositions. This may have led to data leakage and overestimated model performance. This overlap is not unexpected, since a handful of specific FUNaK compositions are of interest in the literature, as they correspond to eutectic points derived from phase diagrams. These phase diagrams are often generated using thermodynamic modeling software. As a result, the dataset reflects real experimental and computational focus on key salt systems. Therefore, I cannot state that the models will generalize to entirely unseen salt compositions without further validation."
      ],
      "metadata": {
        "id": "b4Jyn3BcQDpf"
      }
    },
    {
      "cell_type": "markdown",
      "source": [
        "## **References**\n",
        "\n",
        "For Image of XGBoost, and explanation of the steps:\n",
        "*   https://medium.com/@fraidoonomarzai99/xgboost-regression-in-depth-cb2b3f623281\n",
        "\n",
        "Introduction, previous work mentioned:\n",
        "*   Glushko, V. P., et al. Thermodynamic Properties of Individual Substances Vol. 1-5. Moscow: Nauka, 1994.\n",
        "*   Barin, I. Thermochemical Data of Pure Substances. 3rd ed., VCH Publishers, Weinheim, 1995.\n",
        "*   Tang, Y., et al. (2024). Prediction of molten salt eutectic temperatures using machine learning. Energy, 296, 130485. https://doi.org/10.1016/j.energy.2024.130485\n",
        "\n",
        "For the **Dataset**, various papers and websites were used:\n",
        "\n",
        "*   Maxime Fache et al. (2024). Thermophysical Properties of FUNaK (NaF-KF-UF4) Eutectics. https://www.mdpi.com/1996-1944/17/11/2776\n",
        "\n",
        "*   Bianca S. et al. (2021). Thermodynamic Assessment of the NaF-KF-UF4 System. https://www.mdpi.com/2673-7264/1/2/16\n",
        "\n",
        "*   Keiser, D. D., et al. (2022). Thermophysical Properties for Molten Salt Reactor Systems. ORNL Technical Report ORNL/TM-2022/1812. Oak Ridge National Laboratory. https://info.ornl.gov/sites/publications/Files/Pub167853.pdf\n",
        "\n",
        "*   Johnstone, W. R., & Allen, N. P. (1960). The melting points and heats of fusion of uranium tetrafluoride and uranium hexafluoride. Journal of Inorganic and Nuclear Chemistry, 16(3-4), 328-330. https://doi.org/10.1016/0022-1902(60)80194-7\n",
        "\n",
        "*   NIST Chemistry WebBook. (n.d.). Uranium tetrafluoride thermophysical data. National Institute of Standards and Technology. https://webbook.nist.gov/cgi/cbook.cgi?Name=uranium+tetrafluoride&Units=SI\n",
        "\n",
        "*   Clifford, T. D., et al. (1976). Thermodynamic analysis of fused salt systems. Nuclear Science and Engineering, 63(5), 467-478. https://doi.org/10.13182/nse63-5"
      ],
      "metadata": {
        "id": "yaxqlm6kRcmb"
      }
    }
  ]
}